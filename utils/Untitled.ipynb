{
 "cells": [
  {
   "cell_type": "code",
   "execution_count": 1,
   "id": "8f99e514-0c24-4e01-bc0e-5497375db337",
   "metadata": {
    "execution": {
     "iopub.execute_input": "2025-04-17T18:00:53.067061Z",
     "iopub.status.busy": "2025-04-17T18:00:53.066856Z",
     "iopub.status.idle": "2025-04-17T18:00:57.700010Z",
     "shell.execute_reply": "2025-04-17T18:00:57.699097Z",
     "shell.execute_reply.started": "2025-04-17T18:00:53.067039Z"
    }
   },
   "outputs": [],
   "source": [
    "import pandas as pd\n",
    "import numpy as np"
   ]
  },
  {
   "cell_type": "code",
   "execution_count": 2,
   "id": "ed0e271e-f256-4d44-b57a-8e5e6877fd08",
   "metadata": {
    "execution": {
     "iopub.execute_input": "2025-04-15T14:11:35.156434Z",
     "iopub.status.busy": "2025-04-15T14:11:35.156065Z",
     "iopub.status.idle": "2025-04-15T14:11:35.480838Z",
     "shell.execute_reply": "2025-04-15T14:11:35.479631Z",
     "shell.execute_reply.started": "2025-04-15T14:11:35.156406Z"
    }
   },
   "outputs": [
    {
     "data": {
      "text/html": [
       "<div>\n",
       "<style scoped>\n",
       "    .dataframe tbody tr th:only-of-type {\n",
       "        vertical-align: middle;\n",
       "    }\n",
       "\n",
       "    .dataframe tbody tr th {\n",
       "        vertical-align: top;\n",
       "    }\n",
       "\n",
       "    .dataframe thead th {\n",
       "        text-align: right;\n",
       "    }\n",
       "</style>\n",
       "<table border=\"1\" class=\"dataframe\">\n",
       "  <thead>\n",
       "    <tr style=\"text-align: right;\">\n",
       "      <th></th>\n",
       "      <th>Transaction_ID</th>\n",
       "      <th>User_ID</th>\n",
       "      <th>Transaction_Amount</th>\n",
       "      <th>Transaction_Type</th>\n",
       "      <th>Timestamp</th>\n",
       "      <th>Account_Balance</th>\n",
       "      <th>Device_Type</th>\n",
       "      <th>Location</th>\n",
       "      <th>Merchant_Category</th>\n",
       "      <th>IP_Address_Flag</th>\n",
       "      <th>...</th>\n",
       "      <th>Daily_Transaction_Count</th>\n",
       "      <th>Avg_Transaction_Amount_7d</th>\n",
       "      <th>Failed_Transaction_Count_7d</th>\n",
       "      <th>Card_Type</th>\n",
       "      <th>Card_Age</th>\n",
       "      <th>Transaction_Distance</th>\n",
       "      <th>Authentication_Method</th>\n",
       "      <th>Risk_Score</th>\n",
       "      <th>Is_Weekend</th>\n",
       "      <th>Fraud_Label</th>\n",
       "    </tr>\n",
       "  </thead>\n",
       "  <tbody>\n",
       "    <tr>\n",
       "      <th>0</th>\n",
       "      <td>TXN_33553</td>\n",
       "      <td>USER_1834</td>\n",
       "      <td>39.79</td>\n",
       "      <td>POS</td>\n",
       "      <td>2023-08-14 19:30:00</td>\n",
       "      <td>93213.17</td>\n",
       "      <td>Laptop</td>\n",
       "      <td>Sydney</td>\n",
       "      <td>Travel</td>\n",
       "      <td>0</td>\n",
       "      <td>...</td>\n",
       "      <td>7</td>\n",
       "      <td>437.63</td>\n",
       "      <td>3</td>\n",
       "      <td>Amex</td>\n",
       "      <td>65</td>\n",
       "      <td>883.17</td>\n",
       "      <td>Biometric</td>\n",
       "      <td>0.8494</td>\n",
       "      <td>0</td>\n",
       "      <td>0</td>\n",
       "    </tr>\n",
       "    <tr>\n",
       "      <th>1</th>\n",
       "      <td>TXN_9427</td>\n",
       "      <td>USER_7875</td>\n",
       "      <td>1.19</td>\n",
       "      <td>Bank Transfer</td>\n",
       "      <td>2023-06-07 04:01:00</td>\n",
       "      <td>75725.25</td>\n",
       "      <td>Mobile</td>\n",
       "      <td>New York</td>\n",
       "      <td>Clothing</td>\n",
       "      <td>0</td>\n",
       "      <td>...</td>\n",
       "      <td>13</td>\n",
       "      <td>478.76</td>\n",
       "      <td>4</td>\n",
       "      <td>Mastercard</td>\n",
       "      <td>186</td>\n",
       "      <td>2203.36</td>\n",
       "      <td>Password</td>\n",
       "      <td>0.0959</td>\n",
       "      <td>0</td>\n",
       "      <td>1</td>\n",
       "    </tr>\n",
       "    <tr>\n",
       "      <th>2</th>\n",
       "      <td>TXN_199</td>\n",
       "      <td>USER_2734</td>\n",
       "      <td>28.96</td>\n",
       "      <td>Online</td>\n",
       "      <td>2023-06-20 15:25:00</td>\n",
       "      <td>1588.96</td>\n",
       "      <td>Tablet</td>\n",
       "      <td>Mumbai</td>\n",
       "      <td>Restaurants</td>\n",
       "      <td>0</td>\n",
       "      <td>...</td>\n",
       "      <td>14</td>\n",
       "      <td>50.01</td>\n",
       "      <td>4</td>\n",
       "      <td>Visa</td>\n",
       "      <td>226</td>\n",
       "      <td>1909.29</td>\n",
       "      <td>Biometric</td>\n",
       "      <td>0.8400</td>\n",
       "      <td>0</td>\n",
       "      <td>1</td>\n",
       "    </tr>\n",
       "    <tr>\n",
       "      <th>3</th>\n",
       "      <td>TXN_12447</td>\n",
       "      <td>USER_2617</td>\n",
       "      <td>254.32</td>\n",
       "      <td>ATM Withdrawal</td>\n",
       "      <td>2023-12-07 00:31:00</td>\n",
       "      <td>76807.20</td>\n",
       "      <td>Tablet</td>\n",
       "      <td>New York</td>\n",
       "      <td>Clothing</td>\n",
       "      <td>0</td>\n",
       "      <td>...</td>\n",
       "      <td>8</td>\n",
       "      <td>182.48</td>\n",
       "      <td>4</td>\n",
       "      <td>Visa</td>\n",
       "      <td>76</td>\n",
       "      <td>1311.86</td>\n",
       "      <td>OTP</td>\n",
       "      <td>0.7935</td>\n",
       "      <td>0</td>\n",
       "      <td>1</td>\n",
       "    </tr>\n",
       "    <tr>\n",
       "      <th>4</th>\n",
       "      <td>TXN_39489</td>\n",
       "      <td>USER_2014</td>\n",
       "      <td>31.28</td>\n",
       "      <td>POS</td>\n",
       "      <td>2023-11-11 23:44:00</td>\n",
       "      <td>92354.66</td>\n",
       "      <td>Mobile</td>\n",
       "      <td>Mumbai</td>\n",
       "      <td>Electronics</td>\n",
       "      <td>0</td>\n",
       "      <td>...</td>\n",
       "      <td>14</td>\n",
       "      <td>328.69</td>\n",
       "      <td>4</td>\n",
       "      <td>Mastercard</td>\n",
       "      <td>140</td>\n",
       "      <td>966.98</td>\n",
       "      <td>Password</td>\n",
       "      <td>0.3819</td>\n",
       "      <td>1</td>\n",
       "      <td>1</td>\n",
       "    </tr>\n",
       "  </tbody>\n",
       "</table>\n",
       "<p>5 rows × 21 columns</p>\n",
       "</div>"
      ],
      "text/plain": [
       "  Transaction_ID    User_ID  Transaction_Amount Transaction_Type  \\\n",
       "0      TXN_33553  USER_1834               39.79              POS   \n",
       "1       TXN_9427  USER_7875                1.19    Bank Transfer   \n",
       "2        TXN_199  USER_2734               28.96           Online   \n",
       "3      TXN_12447  USER_2617              254.32   ATM Withdrawal   \n",
       "4      TXN_39489  USER_2014               31.28              POS   \n",
       "\n",
       "             Timestamp  Account_Balance Device_Type  Location  \\\n",
       "0  2023-08-14 19:30:00         93213.17      Laptop    Sydney   \n",
       "1  2023-06-07 04:01:00         75725.25      Mobile  New York   \n",
       "2  2023-06-20 15:25:00          1588.96      Tablet    Mumbai   \n",
       "3  2023-12-07 00:31:00         76807.20      Tablet  New York   \n",
       "4  2023-11-11 23:44:00         92354.66      Mobile    Mumbai   \n",
       "\n",
       "  Merchant_Category  IP_Address_Flag  ...  Daily_Transaction_Count  \\\n",
       "0            Travel                0  ...                        7   \n",
       "1          Clothing                0  ...                       13   \n",
       "2       Restaurants                0  ...                       14   \n",
       "3          Clothing                0  ...                        8   \n",
       "4       Electronics                0  ...                       14   \n",
       "\n",
       "   Avg_Transaction_Amount_7d  Failed_Transaction_Count_7d   Card_Type  \\\n",
       "0                     437.63                            3        Amex   \n",
       "1                     478.76                            4  Mastercard   \n",
       "2                      50.01                            4        Visa   \n",
       "3                     182.48                            4        Visa   \n",
       "4                     328.69                            4  Mastercard   \n",
       "\n",
       "  Card_Age  Transaction_Distance  Authentication_Method Risk_Score  \\\n",
       "0       65                883.17              Biometric     0.8494   \n",
       "1      186               2203.36               Password     0.0959   \n",
       "2      226               1909.29              Biometric     0.8400   \n",
       "3       76               1311.86                    OTP     0.7935   \n",
       "4      140                966.98               Password     0.3819   \n",
       "\n",
       "   Is_Weekend  Fraud_Label  \n",
       "0           0            0  \n",
       "1           0            1  \n",
       "2           0            1  \n",
       "3           0            1  \n",
       "4           1            1  \n",
       "\n",
       "[5 rows x 21 columns]"
      ]
     },
     "execution_count": 2,
     "metadata": {},
     "output_type": "execute_result"
    }
   ],
   "source": [
    "df = pd.read_csv(\"/home/lukasz/Portfolio/Dataset/synthetic_fraud_dataset.csv\")\n",
    "df.head()"
   ]
  },
  {
   "cell_type": "code",
   "execution_count": 4,
   "id": "f697a34e-b289-45e8-b0ba-31c7d9fb8cab",
   "metadata": {
    "execution": {
     "iopub.execute_input": "2025-04-14T17:28:39.431355Z",
     "iopub.status.busy": "2025-04-14T17:28:39.431058Z",
     "iopub.status.idle": "2025-04-14T17:28:39.478566Z",
     "shell.execute_reply": "2025-04-14T17:28:39.458992Z",
     "shell.execute_reply.started": "2025-04-14T17:28:39.431332Z"
    }
   },
   "outputs": [
    {
     "name": "stdout",
     "output_type": "stream",
     "text": [
      "0        2023-08-14 19:30:00\n",
      "1        2023-06-07 04:01:00\n",
      "2        2023-06-20 15:25:00\n",
      "3        2023-12-07 00:31:00\n",
      "4        2023-11-11 23:44:00\n",
      "                ...         \n",
      "49995    2023-01-29 18:38:00\n",
      "49996    2023-05-09 08:55:00\n",
      "49997    2023-01-30 19:32:00\n",
      "49998    2023-03-09 19:47:00\n",
      "49999    2023-08-19 23:57:00\n",
      "Name: Timestamp, Length: 50000, dtype: object\n",
      "object\n",
      "0    2023-08-14 19:30:00\n",
      "1    2023-06-07 04:01:00\n",
      "2    2023-06-20 15:25:00\n",
      "3    2023-12-07 00:31:00\n",
      "4    2023-11-11 23:44:00\n",
      "Name: Timestamp, dtype: object\n"
     ]
    }
   ],
   "source": [
    "print(df.Timestamp)  # sprawdź dokładną nazwę\n",
    "print(df['Timestamp'].dtype)  # sprawdź typ danych tej kolumny\n",
    "print(df['Timestamp'].head()) "
   ]
  },
  {
   "cell_type": "code",
   "execution_count": 5,
   "id": "ef7b993f-a52a-47d3-852a-cb981623959a",
   "metadata": {
    "execution": {
     "iopub.execute_input": "2025-04-14T17:29:08.479823Z",
     "iopub.status.busy": "2025-04-14T17:29:08.479499Z",
     "iopub.status.idle": "2025-04-14T17:29:08.518450Z",
     "shell.execute_reply": "2025-04-14T17:29:08.517303Z",
     "shell.execute_reply.started": "2025-04-14T17:29:08.479796Z"
    }
   },
   "outputs": [],
   "source": [
    "df['Timestamp'] = pd.to_datetime(df['Timestamp'], errors='coerce')"
   ]
  },
  {
   "cell_type": "code",
   "execution_count": 11,
   "id": "4de7993d-6346-4d83-8aed-e8c6b33a5be4",
   "metadata": {
    "execution": {
     "iopub.execute_input": "2025-04-15T14:14:47.392828Z",
     "iopub.status.busy": "2025-04-15T14:14:47.392490Z",
     "iopub.status.idle": "2025-04-15T14:14:47.397527Z",
     "shell.execute_reply": "2025-04-15T14:14:47.396445Z",
     "shell.execute_reply.started": "2025-04-15T14:14:47.392798Z"
    }
   },
   "outputs": [
    {
     "name": "stdout",
     "output_type": "stream",
     "text": [
      "datetime64[ns]\n"
     ]
    }
   ],
   "source": [
    "print(df['Timestamp'].dtype) "
   ]
  },
  {
   "cell_type": "code",
   "execution_count": 13,
   "id": "9dacce9e-6328-4d38-88bc-0ff12ad6df4f",
   "metadata": {
    "execution": {
     "iopub.execute_input": "2025-04-15T14:15:26.113420Z",
     "iopub.status.busy": "2025-04-15T14:15:26.112842Z",
     "iopub.status.idle": "2025-04-15T14:15:26.134066Z",
     "shell.execute_reply": "2025-04-15T14:15:26.128201Z",
     "shell.execute_reply.started": "2025-04-15T14:15:26.113384Z"
    }
   },
   "outputs": [],
   "source": [
    "def analyze_date_columns(df, results, date_column, check_levels=['months', 'days', 'hours', 'minutes', 'seconds']):\n",
    "    df[date_column] = pd.to_datetime(df[date_column], errors='coerce')\n",
    "    print(\"Typ kolumny:\", df[date_column].dtype)\n",
    "    print(\"Czy kolumna istnieje?\", date_column in df.columns)\n",
    "    results.append(f\"\\n### Analiza kolumny datowej: {date_column} ###\")    \n",
    "    if date_column not in df.columns or not np.issubdtype(df[date_column].dtype, np.datetime64):\n",
    "        results.append(f\"- {date_column}: Nie podano kolumny lub podana kolumna nie istanieje (może nie poprawny typ danych)\")\n",
    "        return\n",
    "    min_date = df[date_column].min()\n",
    "    max_date = df[date_column].max()\n",
    "    print(min_date)\n",
    "    if pd.isnull(min_date) or pd.isnull(max_date):\n",
    "        results.append(f\"- {date_column}: Brak prawidłowych wartości datowych.\")\n",
    "        return\n",
    "    results.append(f\"- Zakres dat: od {min_date} do {max_date}\")\n",
    "    for level in check_levels:\n",
    "        freq = {'months': 'M', 'days': 'D', 'hours': 'H', 'minutes': 'T', 'seconds': 'S'}.get(level)\n",
    "        if freq:\n",
    "            full_range = pd.date_range(start=min_date, end=max_date, freq=freq)\n",
    "            existing_values = df[date_column].dropna().dt.to_period(freq)\n",
    "            missing_values = sorted(set(full_range.to_period(freq)) - set(existing_values))\n",
    "            results.append(f\"  - Braki dla {level}: {len(missing_values)}\")\n",
    "            # Dodanie przykładowych brakujących wartości (max 5)\n",
    "            if missing_values:\n",
    "                example_missing = ', '.join(str(v) for v in missing_values[:5])\n",
    "                results.append(f\"    - Przykłady brakujących wartości: {example_missing}\")"
   ]
  },
  {
   "cell_type": "code",
   "execution_count": 16,
   "id": "276296e4-17c5-4d0a-b4e2-e6a97848e78c",
   "metadata": {
    "execution": {
     "iopub.execute_input": "2025-04-15T14:22:00.454067Z",
     "iopub.status.busy": "2025-04-15T14:22:00.453609Z",
     "iopub.status.idle": "2025-04-15T14:22:00.489294Z",
     "shell.execute_reply": "2025-04-15T14:22:00.487919Z",
     "shell.execute_reply.started": "2025-04-15T14:22:00.454035Z"
    }
   },
   "outputs": [
    {
     "name": "stdout",
     "output_type": "stream",
     "text": [
      "Typ kolumny: datetime64[ns]\n",
      "Czy kolumna istnieje? True\n",
      "2023-01-01 00:01:00\n"
     ]
    }
   ],
   "source": [
    "results = []\n",
    "analyze_date_columns(df,results,'Timestamp',('H','S'))"
   ]
  },
  {
   "cell_type": "code",
   "execution_count": 17,
   "id": "76c4bc4f-9f5e-44c3-aabf-f0660d7873c4",
   "metadata": {
    "execution": {
     "iopub.execute_input": "2025-04-15T14:22:05.144416Z",
     "iopub.status.busy": "2025-04-15T14:22:05.144003Z",
     "iopub.status.idle": "2025-04-15T14:22:05.151544Z",
     "shell.execute_reply": "2025-04-15T14:22:05.150809Z",
     "shell.execute_reply.started": "2025-04-15T14:22:05.144385Z"
    }
   },
   "outputs": [
    {
     "data": {
      "text/plain": [
       "['\\n### Analiza kolumny datowej: Timestamp ###',\n",
       " '- Zakres dat: od 2023-01-01 00:01:00 do 2023-12-31 23:50:00']"
      ]
     },
     "execution_count": 17,
     "metadata": {},
     "output_type": "execute_result"
    }
   ],
   "source": [
    "results"
   ]
  },
  {
   "cell_type": "code",
   "execution_count": 2,
   "id": "d674e4f1-7c7a-4a58-850e-aa955d369c20",
   "metadata": {
    "execution": {
     "iopub.execute_input": "2025-04-16T14:48:19.546218Z",
     "iopub.status.busy": "2025-04-16T14:48:19.545873Z",
     "iopub.status.idle": "2025-04-16T14:48:19.630054Z",
     "shell.execute_reply": "2025-04-16T14:48:19.628819Z",
     "shell.execute_reply.started": "2025-04-16T14:48:19.546188Z"
    }
   },
   "outputs": [
    {
     "name": "stdout",
     "output_type": "stream",
     "text": [
      "         #\n",
      "        ###\n",
      "       #####\n",
      "      #######\n",
      "     #########\n",
      "    ###########\n",
      "   #############\n",
      "  ###############\n",
      " #################\n",
      "###################\n",
      "        ###\n",
      "        ###\n",
      "        ###\n"
     ]
    }
   ],
   "source": [
    "def draw_tree(levels):\n",
    "    \"\"\"\n",
    "    Rysuje drzewo z '#' z podaną liczbą poziomów.\n",
    "\n",
    "    :param levels: Liczba poziomów drzewa.\n",
    "    \"\"\"\n",
    "    for i in range(1, levels + 1):\n",
    "        spaces = \" \" * (levels - i)\n",
    "        hashes = \"#\" * (2 * i - 1)\n",
    "        print(spaces + hashes )\n",
    "\n",
    "    # Pień drzewa\n",
    "    trunk_width = levels // 3 if levels > 3 else 1\n",
    "    trunk_height = max(1, levels // 3)\n",
    "    trunk_space = \" \" * (levels - trunk_width // 2 - 1)\n",
    "    \n",
    "    for _ in range(trunk_height):\n",
    "        print(trunk_space + \"#\" * trunk_width)\n",
    "\n",
    "# Przykład użycia\n",
    "draw_tree(10)\n"
   ]
  },
  {
   "cell_type": "code",
   "execution_count": null,
   "id": "99b2b1fb-5e59-410a-8b57-787c904fc5f9",
   "metadata": {},
   "outputs": [],
   "source": []
  }
 ],
 "metadata": {
  "kernelspec": {
   "display_name": "Python 3 (ipykernel)",
   "language": "python",
   "name": "python3"
  },
  "language_info": {
   "codemirror_mode": {
    "name": "ipython",
    "version": 3
   },
   "file_extension": ".py",
   "mimetype": "text/x-python",
   "name": "python",
   "nbconvert_exporter": "python",
   "pygments_lexer": "ipython3",
   "version": "3.10.12"
  }
 },
 "nbformat": 4,
 "nbformat_minor": 5
}
